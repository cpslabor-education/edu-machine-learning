{
 "cells": [
  {
   "cell_type": "markdown",
   "metadata": {},
   "source": [
    "# Osztályozás PyTorch segítségével - XOR probléma\n",
    "Itt az idő, hogy PyTorch segítségével készítsünk egy osztályozót! Először a hírhedt XOR problémát oldjuk meg, majd mesterségesen előállított adatokon osztályozunk, végül pedig az Iris adathalmazon.\n",
    "\n",
    "Először importáljuk be a PyTorch könyvtárat:"
   ]
  },
  {
   "cell_type": "code",
   "execution_count": 1,
   "metadata": {},
   "outputs": [],
   "source": [
    "import torch\n",
    "import torch.nn as nn\n",
    "import torch.nn.functional as F\n",
    "from torch.autograd import Variable"
   ]
  },
  {
   "cell_type": "markdown",
   "metadata": {},
   "source": [
    "Készítsük el a hálónkat! A neurális hálónk, amit a XOR problémára készítünk el, csupán két réteget fog tartalmazni: amint látni fogjuk, ez valóban elegendő a probléma megoldására. Köztudott, hogy egy perceptron önmagában nem elegendő a probléma megoldására.\n",
    "\n",
    "Alapvetően egyszerű lineáris osztályozókat fogunk használni. A bemenet tetszőleges dimenziójú lehet (nyilván 2-dimenzióban a legkézzelfoghatóbb a probléma). Ezt a bemenetet elegendő két perceptronnal kétfelé bontani, majd végül összefogni a külső rétegben.\n",
    "\n",
    "A Pytorch egy jellegzetessége, hogy objektumorientált, minden hálózat az __nn.Module__ osztályból származik. A következő függvények kellenek minimálisan:\n",
    "- A konstruktorban (__init__) definiáljuk a rétegeket, azok működését, dimenzionalitását\n",
    "- A __forward__ függvénnyel határozzuk meg az egyes rétegek közötti kapcsolatokat. Az egyes rétegek között egy aktivációs függvénnyel építhető fel a kapcsolat (ezt hasnzáljuk fel a parciális derivált számításához). A forward függvény minden bemenet esetén végrehajtódik (ez a függvény argumentuma(i)). Mivel a PyTorch alapvetően egy autograd rendszer, amely egy számítási gráfban számít parciális derviáltakat, így egészen egzotikus kapcsolatok is létrehozhatóak. Jelen pillanatban azonban a feedforward hálózatokra összpontosítunk.\n",
    "\n",
    "Ezek alapján a XOR megoldó hálózat:"
   ]
  },
  {
   "cell_type": "code",
   "execution_count": 2,
   "metadata": {},
   "outputs": [],
   "source": [
    "class XORSolver(nn.Module):\n",
    "    def __init__(self, input_dim=2, output_dim=1):\n",
    "        super(XORSolver, self).__init__()\n",
    "        self.linear = nn.Linear(input_dim,2)\n",
    "        self.linear2 = nn.Linear(2, output_dim)\n",
    "        \n",
    "    def forward(self, x):\n",
    "        x = self.linear(x)\n",
    "        x = F.sigmoid(x)\n",
    "        x = self.linear2(x)\n",
    "        return F.sigmoid(x)"
   ]
  },
  {
   "cell_type": "markdown",
   "metadata": {},
   "source": [
    "A hálózat példányosítása:"
   ]
  },
  {
   "cell_type": "code",
   "execution_count": 3,
   "metadata": {},
   "outputs": [],
   "source": [
    "net = XORSolver()"
   ]
  },
  {
   "cell_type": "markdown",
   "metadata": {},
   "source": [
    "A hálózat példányosítását követően a súlyokat valamilyen (közel 0) értékre kell inicializálni. A PyTorchban több beépített módszer áll rendelkezésre, de most saját megoldást mutatunk be. Ezt megtehetjük az alábbi módon:"
   ]
  },
  {
   "cell_type": "code",
   "execution_count": 4,
   "metadata": {},
   "outputs": [],
   "source": [
    "def weights_init(model):\n",
    "    for m in model.modules():\n",
    "        if isinstance(m, nn.Linear):\n",
    "            # initialize the weight tensor, here we use a normal distribution\n",
    "            m.weight.data.normal_(0, 1)\n",
    "weights_init(net)"
   ]
  },
  {
   "cell_type": "markdown",
   "metadata": {},
   "source": [
    "Készítsük el az adathalmazunkat:"
   ]
  },
  {
   "cell_type": "code",
   "execution_count": 5,
   "metadata": {},
   "outputs": [],
   "source": [
    "# Data\n",
    "import numpy as np\n",
    "X = np.array([\n",
    "    [-3.0, 3.0],\n",
    "    [-2.4, 1.5],\n",
    "    [-2.12, -1.85],\n",
    "    [-0.7, -0.5],\n",
    "    [0.27, 0.45],\n",
    "    [1.97, -2.45],\n",
    "    [1.27, -1.45],\n",
    "    [2.27, 3.45],\n",
    "])\n",
    "\n",
    "y = np.array([\n",
    "    1,\n",
    "    1,\n",
    "    0,\n",
    "    0,\n",
    "    0,\n",
    "    1,\n",
    "    1,\n",
    "    0\n",
    "])"
   ]
  },
  {
   "cell_type": "markdown",
   "metadata": {},
   "source": [
    "Látható miképp különül el a két osztály:"
   ]
  },
  {
   "cell_type": "code",
   "execution_count": 6,
   "metadata": {},
   "outputs": [
    {
     "data": {
      "text/plain": [
       "<matplotlib.collections.PathCollection at 0x24d2dddad00>"
      ]
     },
     "execution_count": 6,
     "metadata": {},
     "output_type": "execute_result"
    },
    {
     "data": {
      "image/png": "[encoded data removed]",
      "text/plain": [
       "<Figure size 432x288 with 1 Axes>"
      ]
     },
     "metadata": {
      "needs_background": "light"
     },
     "output_type": "display_data"
    }
   ],
   "source": [
    "import matplotlib.pyplot as plt\n",
    "plt.scatter(X[:,0], X[:, 1], c=y)"
   ]
  },
  {
   "cell_type": "markdown",
   "metadata": {},
   "source": [
    "Definiáljunk néhány hiperparamétert:\n",
    "- 2000 epizódig futtatjuk a tanítást\n",
    "- Mivel egyszerre egy adat kerül a hálóba a tanítás során, így az egyes epizódok a bemeneti adat sorainak felel meg.\n",
    "- A hibafüggvény legyen MSE\n",
    "- Az optimalizáló függvény Adam\n",
    "- Követjük bizonyos időközönként a hibafüggvényt (a plt_iter jelzi)"
   ]
  },
  {
   "cell_type": "code",
   "execution_count": 7,
   "metadata": {},
   "outputs": [],
   "source": [
    "# Hyperparameters\n",
    "epochs = 2000\n",
    "steps = X.shape[0]\n",
    "loss_func = nn.MSELoss()\n",
    "optimizer = torch.optim.Adam(net.parameters(), lr = 0.03)\n",
    "all_losses = []\n",
    "current_loss = 0\n",
    "plt_iter = 10"
   ]
  },
  {
   "cell_type": "markdown",
   "metadata": {},
   "source": [
    "A numpy tömböket át kell alakítani a PyTorch-ban használt adattípusokra:"
   ]
  },
  {
   "cell_type": "code",
   "execution_count": 8,
   "metadata": {},
   "outputs": [],
   "source": [
    "X_ = torch.from_numpy(X).type(torch.FloatTensor)\n",
    "y_ = torch.from_numpy(y).type(torch.FloatTensor)"
   ]
  },
  {
   "cell_type": "markdown",
   "metadata": {},
   "source": [
    "A bemeneti adatok segítségével vizualizálható a hálózat rétegei:"
   ]
  },
  {
   "cell_type": "code",
   "execution_count": 9,
   "metadata": {},
   "outputs": [
    {
     "name": "stderr",
     "output_type": "stream",
     "text": [
      "C:\\Anaconda3\\lib\\site-packages\\torch\\nn\\functional.py:1709: UserWarning: nn.functional.sigmoid is deprecated. Use torch.sigmoid instead.\n",
      "  warnings.warn(\"nn.functional.sigmoid is deprecated. Use torch.sigmoid instead.\")\n"
     ]
    },
    {
     "data": {
      "image/svg+xml": [
       "<?xml version=\"1.0\" encoding=\"UTF-8\" standalone=\"no\"?>\r\n",
       "<!DOCTYPE svg PUBLIC \"-//W3C//DTD SVG 1.1//EN\"\r\n",
       " \"http://www.w3.org/Graphics/SVG/1.1/DTD/svg11.dtd\">\r\n",
       "<!-- Generated by graphviz version 2.38.0 (20140413.2041)\r\n",
       " -->\r\n",
       "<!-- Title: %3 Pages: 1 -->\r\n",
       "<svg width=\"344pt\" height=\"523pt\"\r\n",
       " viewBox=\"0.00 0.00 344.00 523.00\" xmlns=\"http://www.w3.org/2000/svg\" xmlns:xlink=\"http://www.w3.org/1999/xlink\">\r\n",
       "<g id=\"graph0\" class=\"graph\" transform=\"scale(1 1) rotate(0) translate(4 519)\">\r\n",
       "<title>%3</title>\r\n",
       "<polygon fill=\"white\" stroke=\"none\" points=\"-4,4 -4,-519 340,-519 340,4 -4,4\"/>\r\n",
       "<!-- 2530522663616 -->\r\n",
       "<g id=\"node1\" class=\"node\"><title>2530522663616</title>\r\n",
       "<polygon fill=\"#caff70\" stroke=\"black\" points=\"199.5,-31 145.5,-31 145.5,-0 199.5,-0 199.5,-31\"/>\r\n",
       "<text text-anchor=\"middle\" x=\"172.5\" y=\"-7\" font-family=\"monospace\" font-size=\"10.00\"> ()</text>\r\n",
       "</g>\r\n",
       "<!-- 2530522777248 -->\r\n",
       "<g id=\"node2\" class=\"node\"><title>2530522777248</title>\r\n",
       "<polygon fill=\"lightgrey\" stroke=\"black\" points=\"220,-86 125,-86 125,-67 220,-67 220,-86\"/>\r\n",
       "<text text-anchor=\"middle\" x=\"172.5\" y=\"-74\" font-family=\"monospace\" font-size=\"10.00\">MeanBackward0</text>\r\n",
       "</g>\r\n",
       "<!-- 2530522777248&#45;&gt;2530522663616 -->\r\n",
       "<g id=\"edge15\" class=\"edge\"><title>2530522777248&#45;&gt;2530522663616</title>\r\n",
       "<path fill=\"none\" stroke=\"black\" d=\"M172.5,-66.7943C172.5,-60.0669 172.5,-50.404 172.5,-41.3425\"/>\r\n",
       "<polygon fill=\"black\" stroke=\"black\" points=\"176,-41.1932 172.5,-31.1933 169,-41.1933 176,-41.1932\"/>\r\n",
       "</g>\r\n",
       "<!-- 2530522776864 -->\r\n",
       "<g id=\"node3\" class=\"node\"><title>2530522776864</title>\r\n",
       "<polygon fill=\"lightgrey\" stroke=\"black\" points=\"226,-141 119,-141 119,-122 226,-122 226,-141\"/>\r\n",
       "<text text-anchor=\"middle\" x=\"172.5\" y=\"-129\" font-family=\"monospace\" font-size=\"10.00\">SigmoidBackward</text>\r\n",
       "</g>\r\n",
       "<!-- 2530522776864&#45;&gt;2530522777248 -->\r\n",
       "<g id=\"edge1\" class=\"edge\"><title>2530522776864&#45;&gt;2530522777248</title>\r\n",
       "<path fill=\"none\" stroke=\"black\" d=\"M172.5,-121.748C172.5,-114.802 172.5,-104.845 172.5,-96.1349\"/>\r\n",
       "<polygon fill=\"black\" stroke=\"black\" points=\"176,-96.089 172.5,-86.089 169,-96.0891 176,-96.089\"/>\r\n",
       "</g>\r\n",
       "<!-- 2530522776768 -->\r\n",
       "<g id=\"node4\" class=\"node\"><title>2530522776768</title>\r\n",
       "<polygon fill=\"lightgrey\" stroke=\"black\" points=\"220,-196 125,-196 125,-177 220,-177 220,-196\"/>\r\n",
       "<text text-anchor=\"middle\" x=\"172.5\" y=\"-184\" font-family=\"monospace\" font-size=\"10.00\">AddmmBackward</text>\r\n",
       "</g>\r\n",
       "<!-- 2530522776768&#45;&gt;2530522776864 -->\r\n",
       "<g id=\"edge2\" class=\"edge\"><title>2530522776768&#45;&gt;2530522776864</title>\r\n",
       "<path fill=\"none\" stroke=\"black\" d=\"M172.5,-176.748C172.5,-169.802 172.5,-159.845 172.5,-151.135\"/>\r\n",
       "<polygon fill=\"black\" stroke=\"black\" points=\"176,-151.089 172.5,-141.089 169,-151.089 176,-151.089\"/>\r\n",
       "</g>\r\n",
       "<!-- 2530522777200 -->\r\n",
       "<g id=\"node5\" class=\"node\"><title>2530522777200</title>\r\n",
       "<polygon fill=\"lightgrey\" stroke=\"black\" points=\"101,-251 0,-251 0,-232 101,-232 101,-251\"/>\r\n",
       "<text text-anchor=\"middle\" x=\"50.5\" y=\"-239\" font-family=\"monospace\" font-size=\"10.00\">AccumulateGrad</text>\r\n",
       "</g>\r\n",
       "<!-- 2530522777200&#45;&gt;2530522776768 -->\r\n",
       "<g id=\"edge3\" class=\"edge\"><title>2530522777200&#45;&gt;2530522776768</title>\r\n",
       "<path fill=\"none\" stroke=\"black\" d=\"M70.1014,-231.985C89.8158,-223.42 120.453,-210.11 143.083,-200.28\"/>\r\n",
       "<polygon fill=\"black\" stroke=\"black\" points=\"144.765,-203.365 152.542,-196.17 141.975,-196.945 144.765,-203.365\"/>\r\n",
       "</g>\r\n",
       "<!-- 2530491712256 -->\r\n",
       "<g id=\"node6\" class=\"node\"><title>2530491712256</title>\r\n",
       "<polygon fill=\"lightblue\" stroke=\"black\" points=\"95,-317 6,-317 6,-287 95,-287 95,-317\"/>\r\n",
       "<text text-anchor=\"middle\" x=\"50.5\" y=\"-305\" font-family=\"monospace\" font-size=\"10.00\">linear2.bias</text>\r\n",
       "<text text-anchor=\"middle\" x=\"50.5\" y=\"-294\" font-family=\"monospace\" font-size=\"10.00\"> (1)</text>\r\n",
       "</g>\r\n",
       "<!-- 2530491712256&#45;&gt;2530522777200 -->\r\n",
       "<g id=\"edge4\" class=\"edge\"><title>2530491712256&#45;&gt;2530522777200</title>\r\n",
       "<path fill=\"none\" stroke=\"black\" d=\"M50.5,-286.839C50.5,-279.214 50.5,-269.704 50.5,-261.45\"/>\r\n",
       "<polygon fill=\"black\" stroke=\"black\" points=\"54.0001,-261.266 50.5,-251.266 47.0001,-261.266 54.0001,-261.266\"/>\r\n",
       "</g>\r\n",
       "<!-- 2530522776960 -->\r\n",
       "<g id=\"node7\" class=\"node\"><title>2530522776960</title>\r\n",
       "<polygon fill=\"lightgrey\" stroke=\"black\" points=\"226,-251 119,-251 119,-232 226,-232 226,-251\"/>\r\n",
       "<text text-anchor=\"middle\" x=\"172.5\" y=\"-239\" font-family=\"monospace\" font-size=\"10.00\">SigmoidBackward</text>\r\n",
       "</g>\r\n",
       "<!-- 2530522776960&#45;&gt;2530522776768 -->\r\n",
       "<g id=\"edge5\" class=\"edge\"><title>2530522776960&#45;&gt;2530522776768</title>\r\n",
       "<path fill=\"none\" stroke=\"black\" d=\"M172.5,-231.748C172.5,-224.802 172.5,-214.845 172.5,-206.135\"/>\r\n",
       "<polygon fill=\"black\" stroke=\"black\" points=\"176,-206.089 172.5,-196.089 169,-206.089 176,-206.089\"/>\r\n",
       "</g>\r\n",
       "<!-- 2530522777344 -->\r\n",
       "<g id=\"node8\" class=\"node\"><title>2530522777344</title>\r\n",
       "<polygon fill=\"lightgrey\" stroke=\"black\" points=\"217,-311.5 122,-311.5 122,-292.5 217,-292.5 217,-311.5\"/>\r\n",
       "<text text-anchor=\"middle\" x=\"169.5\" y=\"-299.5\" font-family=\"monospace\" font-size=\"10.00\">AddmmBackward</text>\r\n",
       "</g>\r\n",
       "<!-- 2530522777344&#45;&gt;2530522776960 -->\r\n",
       "<g id=\"edge6\" class=\"edge\"><title>2530522777344&#45;&gt;2530522776960</title>\r\n",
       "<path fill=\"none\" stroke=\"black\" d=\"M169.943,-292.368C170.359,-284.246 170.997,-271.807 171.532,-261.385\"/>\r\n",
       "<polygon fill=\"black\" stroke=\"black\" points=\"175.039,-261.333 172.056,-251.167 168.048,-260.975 175.039,-261.333\"/>\r\n",
       "</g>\r\n",
       "<!-- 2530522777440 -->\r\n",
       "<g id=\"node9\" class=\"node\"><title>2530522777440</title>\r\n",
       "<polygon fill=\"lightgrey\" stroke=\"black\" points=\"119,-377.5 18,-377.5 18,-358.5 119,-358.5 119,-377.5\"/>\r\n",
       "<text text-anchor=\"middle\" x=\"68.5\" y=\"-365.5\" font-family=\"monospace\" font-size=\"10.00\">AccumulateGrad</text>\r\n",
       "</g>\r\n",
       "<!-- 2530522777440&#45;&gt;2530522777344 -->\r\n",
       "<g id=\"edge7\" class=\"edge\"><title>2530522777440&#45;&gt;2530522777344</title>\r\n",
       "<path fill=\"none\" stroke=\"black\" d=\"M82.1213,-358.369C98.8377,-347.776 127.408,-329.672 147.311,-317.06\"/>\r\n",
       "<polygon fill=\"black\" stroke=\"black\" points=\"149.198,-320.008 155.772,-311.699 145.452,-314.095 149.198,-320.008\"/>\r\n",
       "</g>\r\n",
       "<!-- 2530491711936 -->\r\n",
       "<g id=\"node10\" class=\"node\"><title>2530491711936</title>\r\n",
       "<polygon fill=\"lightblue\" stroke=\"black\" points=\"109,-449 26,-449 26,-419 109,-419 109,-449\"/>\r\n",
       "<text text-anchor=\"middle\" x=\"67.5\" y=\"-437\" font-family=\"monospace\" font-size=\"10.00\">linear.bias</text>\r\n",
       "<text text-anchor=\"middle\" x=\"67.5\" y=\"-426\" font-family=\"monospace\" font-size=\"10.00\"> (2)</text>\r\n",
       "</g>\r\n",
       "<!-- 2530491711936&#45;&gt;2530522777440 -->\r\n",
       "<g id=\"edge8\" class=\"edge\"><title>2530491711936&#45;&gt;2530522777440</title>\r\n",
       "<path fill=\"none\" stroke=\"black\" d=\"M67.7219,-418.796C67.8641,-409.699 68.0502,-397.788 68.2047,-387.897\"/>\r\n",
       "<polygon fill=\"black\" stroke=\"black\" points=\"71.7051,-387.898 68.3618,-377.844 64.7059,-387.788 71.7051,-387.898\"/>\r\n",
       "</g>\r\n",
       "<!-- 2530522777392 -->\r\n",
       "<g id=\"node11\" class=\"node\"><title>2530522777392</title>\r\n",
       "<polygon fill=\"lightgrey\" stroke=\"black\" points=\"211,-377.5 140,-377.5 140,-358.5 211,-358.5 211,-377.5\"/>\r\n",
       "<text text-anchor=\"middle\" x=\"175.5\" y=\"-365.5\" font-family=\"monospace\" font-size=\"10.00\">TBackward</text>\r\n",
       "</g>\r\n",
       "<!-- 2530522777392&#45;&gt;2530522777344 -->\r\n",
       "<g id=\"edge9\" class=\"edge\"><title>2530522777392&#45;&gt;2530522777344</title>\r\n",
       "<path fill=\"none\" stroke=\"black\" d=\"M174.691,-358.369C173.819,-349.069 172.404,-333.979 171.272,-321.9\"/>\r\n",
       "<polygon fill=\"black\" stroke=\"black\" points=\"174.753,-321.535 170.335,-311.905 167.784,-322.188 174.753,-321.535\"/>\r\n",
       "</g>\r\n",
       "<!-- 2530522777488 -->\r\n",
       "<g id=\"node12\" class=\"node\"><title>2530522777488</title>\r\n",
       "<polygon fill=\"lightgrey\" stroke=\"black\" points=\"228,-443.5 127,-443.5 127,-424.5 228,-424.5 228,-443.5\"/>\r\n",
       "<text text-anchor=\"middle\" x=\"177.5\" y=\"-431.5\" font-family=\"monospace\" font-size=\"10.00\">AccumulateGrad</text>\r\n",
       "</g>\r\n",
       "<!-- 2530522777488&#45;&gt;2530522777392 -->\r\n",
       "<g id=\"edge10\" class=\"edge\"><title>2530522777488&#45;&gt;2530522777392</title>\r\n",
       "<path fill=\"none\" stroke=\"black\" d=\"M177.23,-424.369C176.943,-415.164 176.478,-400.287 176.102,-388.271\"/>\r\n",
       "<polygon fill=\"black\" stroke=\"black\" points=\"179.589,-387.791 175.778,-377.905 172.592,-388.01 179.589,-387.791\"/>\r\n",
       "</g>\r\n",
       "<!-- 2530491711680 -->\r\n",
       "<g id=\"node13\" class=\"node\"><title>2530491711680</title>\r\n",
       "<polygon fill=\"lightblue\" stroke=\"black\" points=\"225,-515 130,-515 130,-485 225,-485 225,-515\"/>\r\n",
       "<text text-anchor=\"middle\" x=\"177.5\" y=\"-503\" font-family=\"monospace\" font-size=\"10.00\">linear.weight</text>\r\n",
       "<text text-anchor=\"middle\" x=\"177.5\" y=\"-492\" font-family=\"monospace\" font-size=\"10.00\"> (2, 2)</text>\r\n",
       "</g>\r\n",
       "<!-- 2530491711680&#45;&gt;2530522777488 -->\r\n",
       "<g id=\"edge11\" class=\"edge\"><title>2530491711680&#45;&gt;2530522777488</title>\r\n",
       "<path fill=\"none\" stroke=\"black\" d=\"M177.5,-484.796C177.5,-475.699 177.5,-463.788 177.5,-453.897\"/>\r\n",
       "<polygon fill=\"black\" stroke=\"black\" points=\"181,-453.844 177.5,-443.844 174,-453.844 181,-453.844\"/>\r\n",
       "</g>\r\n",
       "<!-- 2530522776624 -->\r\n",
       "<g id=\"node14\" class=\"node\"><title>2530522776624</title>\r\n",
       "<polygon fill=\"lightgrey\" stroke=\"black\" points=\"317,-251 246,-251 246,-232 317,-232 317,-251\"/>\r\n",
       "<text text-anchor=\"middle\" x=\"281.5\" y=\"-239\" font-family=\"monospace\" font-size=\"10.00\">TBackward</text>\r\n",
       "</g>\r\n",
       "<!-- 2530522776624&#45;&gt;2530522776768 -->\r\n",
       "<g id=\"edge12\" class=\"edge\"><title>2530522776624&#45;&gt;2530522776768</title>\r\n",
       "<path fill=\"none\" stroke=\"black\" d=\"M263.987,-231.985C246.532,-223.497 219.491,-210.349 199.328,-200.545\"/>\r\n",
       "<polygon fill=\"black\" stroke=\"black\" points=\"200.855,-197.396 190.331,-196.17 197.794,-203.691 200.855,-197.396\"/>\r\n",
       "</g>\r\n",
       "<!-- 2530522777536 -->\r\n",
       "<g id=\"node15\" class=\"node\"><title>2530522777536</title>\r\n",
       "<polygon fill=\"lightgrey\" stroke=\"black\" points=\"336,-311.5 235,-311.5 235,-292.5 336,-292.5 336,-311.5\"/>\r\n",
       "<text text-anchor=\"middle\" x=\"285.5\" y=\"-299.5\" font-family=\"monospace\" font-size=\"10.00\">AccumulateGrad</text>\r\n",
       "</g>\r\n",
       "<!-- 2530522777536&#45;&gt;2530522776624 -->\r\n",
       "<g id=\"edge13\" class=\"edge\"><title>2530522777536&#45;&gt;2530522776624</title>\r\n",
       "<path fill=\"none\" stroke=\"black\" d=\"M284.91,-292.368C284.354,-284.246 283.504,-271.807 282.791,-261.385\"/>\r\n",
       "<polygon fill=\"black\" stroke=\"black\" points=\"286.267,-260.905 282.093,-251.167 279.283,-261.383 286.267,-260.905\"/>\r\n",
       "</g>\r\n",
       "<!-- 2530491712000 -->\r\n",
       "<g id=\"node16\" class=\"node\"><title>2530491712000</title>\r\n",
       "<polygon fill=\"lightblue\" stroke=\"black\" points=\"336,-383 235,-383 235,-353 336,-353 336,-383\"/>\r\n",
       "<text text-anchor=\"middle\" x=\"285.5\" y=\"-371\" font-family=\"monospace\" font-size=\"10.00\">linear2.weight</text>\r\n",
       "<text text-anchor=\"middle\" x=\"285.5\" y=\"-360\" font-family=\"monospace\" font-size=\"10.00\"> (1, 2)</text>\r\n",
       "</g>\r\n",
       "<!-- 2530491712000&#45;&gt;2530522777536 -->\r\n",
       "<g id=\"edge14\" class=\"edge\"><title>2530491712000&#45;&gt;2530522777536</title>\r\n",
       "<path fill=\"none\" stroke=\"black\" d=\"M285.5,-352.796C285.5,-343.699 285.5,-331.788 285.5,-321.897\"/>\r\n",
       "<polygon fill=\"black\" stroke=\"black\" points=\"289,-321.844 285.5,-311.844 282,-321.844 289,-321.844\"/>\r\n",
       "</g>\r\n",
       "</g>\r\n",
       "</svg>\r\n"
      ],
      "text/plain": [
       "<graphviz.dot.Digraph at 0x24d2ee945e0>"
      ]
     },
     "execution_count": 9,
     "metadata": {},
     "output_type": "execute_result"
    }
   ],
   "source": [
    "from torchviz import make_dot\n",
    "make_dot(net(X_).mean(), params=dict(net.named_parameters()))"
   ]
  },
  {
   "cell_type": "markdown",
   "metadata": {},
   "source": [
    "Látható, hogy minden egyes csomópont rendelkezik egy gradienseket akkumuláló csomóponttal, amely tulajdonképp egy belépési pontját jelenti a rétegnek (itt hozzáférhetőek az egyes paraméterek). Mivel réteg paraméterekről van szó, így a dimenzionalitás a neuronszámnak megfelelően fog változni."
   ]
  },
  {
   "cell_type": "markdown",
   "metadata": {},
   "source": [
    "Kezdjük el a tanítást. Ha biztosak akarunk lenni abban, hogy mindig új hálón tanulunk, a következőt kell tenni:\n",
    "- A hálót példányosítsuk újra\n",
    "- Inicializáljuk a háló súlyait\n",
    "- Példányosítsunk egy optimalizálót\n",
    "- Súlyok definiálása\n",
    "\n",
    "Bizonyos időközönként írjuk ki a hiba alakulását. Ha minden jól megy, akkor azt tapasztaljuk, hogy csökken a hiba:"
   ]
  },
  {
   "cell_type": "code",
   "execution_count": 10,
   "metadata": {},
   "outputs": [
    {
     "name": "stderr",
     "output_type": "stream",
     "text": [
      "C:\\Anaconda3\\lib\\site-packages\\torch\\nn\\modules\\loss.py:528: UserWarning: Using a target size (torch.Size([])) that is different to the input size (torch.Size([1])). This will likely lead to incorrect results due to broadcasting. Please ensure they have the same size.\n",
      "  return F.mse_loss(input, target, reduction=self.reduction)\n"
     ]
    },
    {
     "name": "stdout",
     "output_type": "stream",
     "text": [
      "499 completed, Loss 0.0004971593734808266\n",
      "999 completed, Loss 5.2533338021021336e-05\n",
      "1499 completed, Loss 6.8345411818881985e-06\n",
      "1999 completed, Loss 9.183871156892565e-07\n"
     ]
    },
    {
     "data": {
      "text/plain": [
       "[<matplotlib.lines.Line2D at 0x24d2ef79b80>]"
      ]
     },
     "execution_count": 10,
     "metadata": {},
     "output_type": "execute_result"
    },
    {
     "data": {
      "image/png": "[encoded data removed]",
      "text/plain": [
       "<Figure size 432x288 with 1 Axes>"
      ]
     },
     "metadata": {
      "needs_background": "light"
     },
     "output_type": "display_data"
    }
   ],
   "source": [
    "net = XORSolver()\n",
    "weights_init(net)\n",
    "optimizer = torch.optim.Adam(net.parameters(), lr = 0.03)\n",
    "all_losses = []\n",
    "for epoch in range(epochs):\n",
    "    for i in range(steps):\n",
    "        x_var = Variable(X_[i], requires_grad=False)\n",
    "        y_var = Variable(y_[i], requires_grad=False)\n",
    "        \n",
    "        optimizer.zero_grad()\n",
    "        yhat = net(x_var)\n",
    "        loss = loss_func.forward(yhat, y_var)    \n",
    "        loss.backward()\n",
    "        optimizer.step()\n",
    "        \n",
    "        current_loss += loss\n",
    "        if epoch %  plt_iter == 0:\n",
    "            all_losses.append(loss)\n",
    "    if (epoch+1) % 500 == 0:\n",
    "        print(f\"{epoch} completed, Loss {loss}\")\n",
    "plt.plot(all_losses)"
   ]
  },
  {
   "cell_type": "markdown",
   "metadata": {},
   "source": [
    "Tekintsük meg az egyes rétegek paramétereit. Estünkben a külső réteg paraméterei (várhatóan) egy $\\theta$ súlyozásnak és egy hozzátartozó eltolásnak:"
   ]
  },
  {
   "cell_type": "code",
   "execution_count": 11,
   "metadata": {},
   "outputs": [
    {
     "name": "stdout",
     "output_type": "stream",
     "text": [
      "Parameters: \n",
      " Parameter containing:\n",
      "tensor([[14.1783, 14.1913]], requires_grad=True) \n",
      " Parameter containing:\n",
      "tensor([-6.9980], requires_grad=True)\n"
     ]
    }
   ],
   "source": [
    "print(f\"Parameters: \\n {net.linear2.weight} \\n {net.linear2.bias}\")"
   ]
  },
  {
   "cell_type": "markdown",
   "metadata": {},
   "source": [
    "Várható, hogy a bemeneti rétegen a paraméterezés dimenzionalitása más lesz. Ebben az esetben $\\theta$ egy $2\\times 2$ mátrix lesz, a $b$ eltolás pedig egy kétdimenziós vektor:"
   ]
  },
  {
   "cell_type": "code",
   "execution_count": 12,
   "metadata": {},
   "outputs": [
    {
     "name": "stdout",
     "output_type": "stream",
     "text": [
      "Parameters: \n",
      " Parameter containing:\n",
      "tensor([[-3.5281,  2.8503],\n",
      "        [ 4.8748, -4.2582]], requires_grad=True) \n",
      " Parameter containing:\n",
      "tensor([-7.5262, -5.8672], requires_grad=True)\n"
     ]
    }
   ],
   "source": [
    "print(f\"Parameters: \\n {net.linear.weight} \\n {net.linear.bias}\")"
   ]
  },
  {
   "cell_type": "markdown",
   "metadata": {},
   "source": [
    "A betanított hálózat esetében látványos a döntési tartomány vizualizációja. Jól látható, hogy melyik ponton különül el az osztályozás a kontúrdiagrammon. A döntési tartomány vizualizációja a következő módon történik: létrehozunk egy mezőt, amin szeretnénk ezt a tartományt megjeleníteni, majd a mező elemeit adjuk bemenetként meg a neurális hálónak."
   ]
  },
  {
   "cell_type": "code",
   "execution_count": 13,
   "metadata": {},
   "outputs": [
    {
     "data": {
      "image/png": "[encoded data removed]",
      "text/plain": [
       "<Figure size 864x864 with 1 Axes>"
      ]
     },
     "metadata": {
      "needs_background": "light"
     },
     "output_type": "display_data"
    }
   ],
   "source": [
    "plt.figure(figsize=(12,12))\n",
    "lt = np.linspace(-3, 3, 100)\n",
    "plt.ylim((-4, 4))\n",
    "# Plot contour\n",
    "x1grid = np.arange(-4, 4, 0.1)\n",
    "x2grid = np.arange(-4, 4, 0.1)\n",
    "xx, yy = np.meshgrid(x1grid, x2grid)\n",
    "r1, r2 = xx.flatten(), yy.flatten()\n",
    "r1, r2 = r1.reshape((len(r1), 1)), r2.reshape((len(r2), 1))\n",
    "grid = np.hstack((r1,r2))\n",
    "#\n",
    "yhat = net(torch.from_numpy(grid).type(torch.FloatTensor)).detach().numpy()\n",
    "#\n",
    "zz = yhat.reshape(xx.shape)\n",
    "c = plt.contourf(xx, yy, zz, cmap='RdBu')\n",
    "# Show everything\n",
    "plt.axvline(x=0, color='r', linestyle='--')\n",
    "plt.axhline(y=0, color='r', linestyle='--')\n",
    "plt.scatter(X[:,0], X[:,1], c=y)\n",
    "\n",
    "\n",
    "\n",
    "model_params = list(net.parameters())\n",
    "\n",
    "model_weights = model_params[0].data.numpy()\n",
    "model_bias = model_params[1].data.numpy()\n",
    "\n",
    "\n",
    "x_1 = np.arange(-0.1, 1.1, 0.1)\n",
    "y_1 = ((x_1 * model_weights[0,0]) + model_bias[0]) / (-model_weights[0,1])\n",
    "plt.plot(x_1, y_1)\n",
    "\n",
    "x_2 = np.arange(-0.1, 1.1, 0.1)\n",
    "y_2 = ((x_2 * model_weights[1,0]) + model_bias[1]) / (-model_weights[1,1])\n",
    "plt.plot(x_2, y_2, linewidth=2)\n",
    "\n",
    "plt.show()"
   ]
  }
 ],
 "metadata": {
  "kernelspec": {
   "display_name": "Python 3",
   "language": "python",
   "name": "python3"
  },
  "language_info": {
   "codemirror_mode": {
    "name": "ipython",
    "version": 3
   },
   "file_extension": ".py",
   "mimetype": "text/x-python",
   "name": "python",
   "nbconvert_exporter": "python",
   "pygments_lexer": "ipython3",
   "version": "3.8.5"
  }
 },
 "nbformat": 4,
 "nbformat_minor": 4
}
