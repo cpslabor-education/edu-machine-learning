{
 "cells": [
  {
   "cell_type": "code",
   "execution_count": 1,
   "metadata": {},
   "outputs": [],
   "source": [
    "import sklearn.datasets\n",
    "from sklearn.model_selection import train_test_split\n",
    "from sklearn.preprocessing import MinMaxScaler\n",
    "\n",
    "scaler = MinMaxScaler()\n",
    "\n",
    "diabetes = sklearn.datasets.fetch_california_housing()\n",
    "X, Y = diabetes[\"data\"], diabetes[\"target\"]\n",
    "scaler.fit(X)\n",
    "X = scaler.transform(X)\n",
    "X_train, X_test, y_train, y_test = train_test_split(X, Y, test_size=0.33, random_state=42)"
   ]
  },
  {
   "cell_type": "code",
   "execution_count": 2,
   "metadata": {},
   "outputs": [],
   "source": [
    "import numpy as np\n",
    "import torch\n",
    "import torch.nn as nn\n",
    "import torch.nn.functional as F\n",
    "from torch.autograd import Variable"
   ]
  },
  {
   "cell_type": "code",
   "execution_count": 3,
   "metadata": {},
   "outputs": [],
   "source": [
    "class SimpleRegressionElu(nn.Module):\n",
    "    def __init__(self, input_dim=2, hidden_neurons=5, output_dim=3):\n",
    "        super(SimpleRegressionElu, self).__init__()\n",
    "        self.linear = nn.Linear(input_dim, hidden_neurons)\n",
    "        self.linear1 = nn.Linear(hidden_neurons, int(hidden_neurons/2))\n",
    "        self.linear2 = nn.Linear(int(hidden_neurons/2), int(hidden_neurons/2))\n",
    "        self.linear_out = nn.Linear(int(hidden_neurons/2), output_dim)\n",
    "        self.relu = nn.ReLU()\n",
    "        self.elu = nn.ELU()\n",
    "        self.sf = nn.Softmax()\n",
    "        \n",
    "    def forward(self, x):\n",
    "        x = self.linear(x)        \n",
    "        x = self.elu(x)\n",
    "        x = self.linear1(x)        \n",
    "        x = self.elu(x)\n",
    "        x = self.linear2(x)        \n",
    "        x = self.relu(x)\n",
    "        x = self.linear_out(x)\n",
    "        return x"
   ]
  },
  {
   "cell_type": "code",
   "execution_count": 4,
   "metadata": {},
   "outputs": [],
   "source": [
    "X_train_ = torch.from_numpy(X_train).type(torch.FloatTensor)\n",
    "y_train_ = torch.from_numpy(y_train).type(torch.FloatTensor)\n",
    "X_test_ = torch.from_numpy(X_test).type(torch.FloatTensor)\n",
    "y_test_ = torch.from_numpy(y_test).type(torch.FloatTensor)"
   ]
  },
  {
   "cell_type": "code",
   "execution_count": 5,
   "metadata": {},
   "outputs": [],
   "source": [
    "import matplotlib.pyplot as plt"
   ]
  },
  {
   "cell_type": "code",
   "execution_count": 6,
   "metadata": {},
   "outputs": [],
   "source": [
    "epochs = 100\n",
    "batch_size = 100\n",
    "steps = X_train_.shape[0] // batch_size\n",
    "loss_func = nn.MSELoss()\n",
    "plt_iter = 2"
   ]
  },
  {
   "cell_type": "code",
   "execution_count": 7,
   "metadata": {},
   "outputs": [],
   "source": [
    "def weights_init(model):\n",
    "    for m in model.modules():\n",
    "        if isinstance(m, nn.Linear):\n",
    "            # initialize the weight tensor, here we use a normal distribution\n",
    "            torch.nn.init.xavier_uniform_(m.weight)\n",
    "            m.bias.data.fill_(0.01)"
   ]
  },
  {
   "cell_type": "code",
   "execution_count": 9,
   "metadata": {},
   "outputs": [
    {
     "name": "stdout",
     "output_type": "stream",
     "text": [
      "49 completed, Loss 1.57334303855896 1.5711262226104736\n",
      "99 completed, Loss 1.573350191116333 1.571075439453125\n"
     ]
    },
    {
     "data": {
      "text/plain": [
       "[<matplotlib.lines.Line2D at 0x240ecbbac10>]"
      ]
     },
     "execution_count": 9,
     "metadata": {},
     "output_type": "execute_result"
    },
    {
     "data": {
      "image/png": "[encoded data removed]",
      "text/plain": [
       "<Figure size 432x288 with 1 Axes>"
      ]
     },
     "metadata": {
      "needs_background": "light"
     },
     "output_type": "display_data"
    }
   ],
   "source": [
    "net = SimpleRegressionElu(input_dim=X.shape[1], output_dim=1, hidden_neurons=10)\n",
    "\n",
    "def train(net):\n",
    "    accuracy_list = []\n",
    "    \n",
    "    optimizer = torch.optim.Adam(net.parameters(), lr = 0.03)\n",
    "    weights_init(net)\n",
    "    all_losses = []\n",
    "    all_test_loss = []\n",
    "    for epoch in range(epochs):\n",
    "        \n",
    "        all_train_pred = np.zeros((X_train.shape[0], 1))\n",
    "        current_loss = 0\n",
    "        for i in range(steps):\n",
    "            x_var = Variable(X_train_[i:i+batch_size], requires_grad=False)\n",
    "            y_var = Variable(y_train_[i:i+batch_size], requires_grad=False)\n",
    "            net.train()            \n",
    "            yhat = net(x_var)\n",
    "            loss = loss_func(yhat, y_var)            \n",
    "            loss.backward()\n",
    "            all_train_pred[i:i+batch_size] = yhat.detach().numpy().reshape(batch_size, 1)\n",
    "            optimizer.step()\n",
    "            optimizer.zero_grad()\n",
    "            # Test loss\n",
    "            #\n",
    "            current_loss = (current_loss + loss)/2.0\n",
    "        if epoch %  plt_iter == 0:\n",
    "            all_losses.append(current_loss)\n",
    "            val_losses = []\n",
    "            net.eval()\n",
    "            yhat = net(X_test_)\n",
    "            loss = loss_func(yhat, y_test_)\n",
    "            all_test_loss.append(loss)\n",
    "        if (epoch+1) % 50 == 0:\n",
    "            print(f\"{epoch} completed, Loss {current_loss} {loss}\")\n",
    "            \n",
    "    return all_losses, all_test_loss\n",
    "\n",
    "all_losses, all_test_loss = train(net)\n",
    "plt.plot(all_losses)\n",
    "plt.plot(all_test_loss)"
   ]
  },
  {
   "cell_type": "code",
   "execution_count": null,
   "metadata": {},
   "outputs": [],
   "source": []
  }
 ],
 "metadata": {
  "kernelspec": {
   "display_name": "Python 3",
   "language": "python",
   "name": "python3"
  },
  "language_info": {
   "codemirror_mode": {
    "name": "ipython",
    "version": 3
   },
   "file_extension": ".py",
   "mimetype": "text/x-python",
   "name": "python",
   "nbconvert_exporter": "python",
   "pygments_lexer": "ipython3",
   "version": "3.8.5"
  }
 },
 "nbformat": 4,
 "nbformat_minor": 4
}
